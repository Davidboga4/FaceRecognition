{
  "nbformat": 4,
  "nbformat_minor": 0,
  "metadata": {
    "colab": {
      "name": "Polynomial Regression.ipynb",
      "provenance": [],
      "include_colab_link": true
    },
    "kernelspec": {
      "name": "python3",
      "display_name": "Python 3"
    }
  },
  "cells": [
    {
      "cell_type": "markdown",
      "metadata": {
        "id": "view-in-github",
        "colab_type": "text"
      },
      "source": [
        "<a href=\"https://colab.research.google.com/github/Davidboga4/FaceRecognition/blob/master/Polynomial_Regression.ipynb\" target=\"_parent\"><img src=\"https://colab.research.google.com/assets/colab-badge.svg\" alt=\"Open In Colab\"/></a>"
      ]
    },
    {
      "cell_type": "code",
      "metadata": {
        "id": "UgTr58plqLVm",
        "colab_type": "code",
        "colab": {}
      },
      "source": [
        "import numpy as np\n",
        "import matplotlib.pyplot as plt\n",
        "from sklearn.preprocessing import PolynomialFeatures\n",
        "from sklearn.linear_model import LinearRegression"
      ],
      "execution_count": null,
      "outputs": []
    },
    {
      "cell_type": "code",
      "metadata": {
        "id": "8T7cgc9Gqq9n",
        "colab_type": "code",
        "colab": {
          "base_uri": "https://localhost:8080/",
          "height": 279
        },
        "outputId": "8bf99c95-b328-48e0-dc51-b3a5841a1c03"
      },
      "source": [
        "## Generating some highly non-linear data from a sin function\n",
        "\n",
        "# Generating some equally-spaced values and reshaping them\n",
        "x = np.resize(np.linspace(-8, 12, 30), (30,1))\n",
        "\n",
        "# Generating some noise to add to our data\n",
        "noise = np.random.normal(loc=0, scale=0.2, size=(30,1))\n",
        "\n",
        "# Adding noise to our targets\n",
        "y = np.sin(x) + noise\n",
        "\n",
        "plt.plot(x, y, 'r.')\n",
        "plt.xlabel('X')\n",
        "plt.ylabel('Y')\n",
        "plt.grid()\n",
        "plt.show()"
      ],
      "execution_count": null,
      "outputs": [
        {
          "output_type": "display_data",
          "data": {
            "image/png": "[encoded data removed]",
            "text/plain": [
              "<Figure size 432x288 with 1 Axes>"
            ]
          },
          "metadata": {
            "tags": [],
            "needs_background": "light"
          }
        }
      ]
    },
    {
      "cell_type": "markdown",
      "metadata": {
        "id": "Zh-JlVRztbuT",
        "colab_type": "text"
      },
      "source": [
        "# Degree 1 polynomial\n"
      ]
    },
    {
      "cell_type": "code",
      "metadata": {
        "id": "7ZntHUeAuGEM",
        "colab_type": "code",
        "colab": {}
      },
      "source": [
        "print(x)\n",
        "print(y)"
      ],
      "execution_count": null,
      "outputs": []
    },
    {
      "cell_type": "code",
      "metadata": {
        "id": "a4F3O9imv_8T",
        "colab_type": "code",
        "colab": {}
      },
      "source": [
        "model = LinearRegression()"
      ],
      "execution_count": null,
      "outputs": []
    },
    {
      "cell_type": "code",
      "metadata": {
        "id": "cX0ayzvytWMD",
        "colab_type": "code",
        "colab": {
          "base_uri": "https://localhost:8080/",
          "height": 279
        },
        "outputId": "2fea6d19-cf63-4f12-bce0-7014caebc8f3"
      },
      "source": [
        "model.fit(x, y)\n",
        "\n",
        "y_hat = model.predict(x)\n",
        "\n",
        "def plot_model(x, y, y_hat):\n",
        "  plt.plot(x, y_hat, 'b-')\n",
        "  plt.plot(x, y, 'r.')\n",
        "  plt.xlabel('X')\n",
        "  plt.ylabel('Y')\n",
        "  plt.grid()\n",
        "  plt.show()\n",
        "\n",
        "plot_model(x, y, y_hat)"
      ],
      "execution_count": null,
      "outputs": [
        {
          "output_type": "display_data",
          "data": {
            "image/png": "[encoded data removed]",
            "text/plain": [
              "<Figure size 432x288 with 1 Axes>"
            ]
          },
          "metadata": {
            "tags": [],
            "needs_background": "light"
          }
        }
      ]
    },
    {
      "cell_type": "markdown",
      "metadata": {
        "id": "8UbL3VmauLN6",
        "colab_type": "text"
      },
      "source": [
        "# Degree 2 polynomial"
      ]
    },
    {
      "cell_type": "code",
      "metadata": {
        "id": "2BLKt7YhuAZx",
        "colab_type": "code",
        "colab": {
          "base_uri": "https://localhost:8080/",
          "height": 538
        },
        "outputId": "70d56015-0091-45fe-8db9-d64a7be49465"
      },
      "source": [
        "# Generating degree 2 features => X**1, X**2 => X, X**2 \n",
        "\n",
        "# Using the PolynomialFeatures transformer\n",
        "poly = PolynomialFeatures(degree=2, include_bias=False)\n",
        "\n",
        "# poly = poly.fit(x)\n",
        "# x_2 = poly.transform(x)\n",
        "\n",
        "# x_2 = poly.fit(x).transform(x)\n",
        "\n",
        "x_2 = poly.fit_transform(x)\n",
        "\n",
        "# e+01 => 10**1\n",
        "\n",
        "print(x_2)"
      ],
      "execution_count": null,
      "outputs": [
        {
          "output_type": "stream",
          "text": [
            "[[-8.00000000e+00  6.40000000e+01]\n",
            " [-7.31034483e+00  5.34411415e+01]\n",
            " [-6.62068966e+00  4.38335315e+01]\n",
            " [-5.93103448e+00  3.51771700e+01]\n",
            " [-5.24137931e+00  2.74720571e+01]\n",
            " [-4.55172414e+00  2.07181926e+01]\n",
            " [-3.86206897e+00  1.49155767e+01]\n",
            " [-3.17241379e+00  1.00642093e+01]\n",
            " [-2.48275862e+00  6.16409037e+00]\n",
            " [-1.79310345e+00  3.21521998e+00]\n",
            " [-1.10344828e+00  1.21759810e+00]\n",
            " [-4.13793103e-01  1.71224732e-01]\n",
            " [ 2.75862069e-01  7.60998811e-02]\n",
            " [ 9.65517241e-01  9.32223543e-01]\n",
            " [ 1.65517241e+00  2.73959572e+00]\n",
            " [ 2.34482759e+00  5.49821641e+00]\n",
            " [ 3.03448276e+00  9.20808561e+00]\n",
            " [ 3.72413793e+00  1.38692033e+01]\n",
            " [ 4.41379310e+00  1.94815696e+01]\n",
            " [ 5.10344828e+00  2.60451843e+01]\n",
            " [ 5.79310345e+00  3.35600476e+01]\n",
            " [ 6.48275862e+00  4.20261593e+01]\n",
            " [ 7.17241379e+00  5.14435196e+01]\n",
            " [ 7.86206897e+00  6.18121284e+01]\n",
            " [ 8.55172414e+00  7.31319857e+01]\n",
            " [ 9.24137931e+00  8.54030916e+01]\n",
            " [ 9.93103448e+00  9.86254459e+01]\n",
            " [ 1.06206897e+01  1.12799049e+02]\n",
            " [ 1.13103448e+01  1.27923900e+02]\n",
            " [ 1.20000000e+01  1.44000000e+02]]\n"
          ],
          "name": "stdout"
        }
      ]
    },
    {
      "cell_type": "code",
      "metadata": {
        "id": "1fy9PsbWvwYR",
        "colab_type": "code",
        "colab": {
          "base_uri": "https://localhost:8080/",
          "height": 279
        },
        "outputId": "60e281f3-6e4e-4f5b-b144-991a0515a974"
      },
      "source": [
        "model = LinearRegression()\n",
        "model.fit(x_2, y)\n",
        "y_hat = model.predict(x_2)\n",
        "\n",
        "plot_model(x, y, y_hat)"
      ],
      "execution_count": null,
      "outputs": [
        {
          "output_type": "display_data",
          "data": {
            "image/png": "[encoded data removed]",
            "text/plain": [
              "<Figure size 432x288 with 1 Axes>"
            ]
          },
          "metadata": {
            "tags": [],
            "needs_background": "light"
          }
        }
      ]
    },
    {
      "cell_type": "markdown",
      "metadata": {
        "id": "YBnWCcwtwcHY",
        "colab_type": "text"
      },
      "source": [
        "# Degree 4 polynomial"
      ]
    },
    {
      "cell_type": "code",
      "metadata": {
        "id": "BBaCkIuHwamj",
        "colab_type": "code",
        "colab": {}
      },
      "source": [
        "poly = PolynomialFeatures(degree=4, include_bias=False)\n",
        "\n",
        "x_4 = poly.fit_transform(x)\n",
        "\n",
        "print(x_4)"
      ],
      "execution_count": null,
      "outputs": []
    },
    {
      "cell_type": "code",
      "metadata": {
        "id": "wzMPmNMywogW",
        "colab_type": "code",
        "colab": {
          "base_uri": "https://localhost:8080/",
          "height": 279
        },
        "outputId": "296a5d50-6ba8-45b1-ea3b-25df2ce86ce7"
      },
      "source": [
        "model = LinearRegression()\n",
        "model.fit(x_4, y)\n",
        "y_hat = model.predict(x_4)\n",
        "\n",
        "plot_model(x, y, y_hat)"
      ],
      "execution_count": null,
      "outputs": [
        {
          "output_type": "display_data",
          "data": {
            "image/png": "[encoded data removed]",
            "text/plain": [
              "<Figure size 432x288 with 1 Axes>"
            ]
          },
          "metadata": {
            "tags": [],
            "needs_background": "light"
          }
        }
      ]
    },
    {
      "cell_type": "markdown",
      "metadata": {
        "id": "4w2FO5quxOPq",
        "colab_type": "text"
      },
      "source": [
        "# Degree 8 polynomial"
      ]
    },
    {
      "cell_type": "code",
      "metadata": {
        "id": "Mx7wSHAmws_L",
        "colab_type": "code",
        "colab": {}
      },
      "source": [
        "poly = PolynomialFeatures(degree=8, include_bias=False)\n",
        "\n",
        "x_8 = poly.fit_transform(x)\n",
        "\n",
        "print(x_8)"
      ],
      "execution_count": null,
      "outputs": []
    },
    {
      "cell_type": "code",
      "metadata": {
        "id": "KelpH27YxXcs",
        "colab_type": "code",
        "colab": {
          "base_uri": "https://localhost:8080/",
          "height": 279
        },
        "outputId": "51589143-82f9-4553-d566-72d0fd09394a"
      },
      "source": [
        "model = LinearRegression()\n",
        "model.fit(x_8, y)\n",
        "y_hat = model.predict(x_8)\n",
        "\n",
        "plot_model(x, y, y_hat)"
      ],
      "execution_count": null,
      "outputs": [
        {
          "output_type": "display_data",
          "data": {
            "image/png": "[encoded data removed]",
            "text/plain": [
              "<Figure size 432x288 with 1 Axes>"
            ]
          },
          "metadata": {
            "tags": [],
            "needs_background": "light"
          }
        }
      ]
    },
    {
      "cell_type": "markdown",
      "metadata": {
        "id": "mIYi8iuIxjyi",
        "colab_type": "text"
      },
      "source": [
        "# Streamlining workflows with Pipelines\n",
        "\n",
        "![Sklearn Pipeline](https://drive.google.com/uc?export=view&id=1ADP9tqaovjwOxc46rv4kRzT5eFvyeoy2)"
      ]
    },
    {
      "cell_type": "code",
      "metadata": {
        "id": "pXhthmSoxvgx",
        "colab_type": "code",
        "colab": {
          "base_uri": "https://localhost:8080/",
          "height": 34
        },
        "outputId": "363cc4a2-540f-4840-b293-8dd8735bab7a"
      },
      "source": [
        "from sklearn.pipeline import make_pipeline\n",
        "\n",
        "pipeline = make_pipeline(PolynomialFeatures(degree=10, include_bias=False),\n",
        "                         LinearRegression())\n",
        "\n",
        "print(type(pipeline))"
      ],
      "execution_count": null,
      "outputs": [
        {
          "output_type": "stream",
          "text": [
            "<class 'sklearn.pipeline.Pipeline'>\n"
          ],
          "name": "stdout"
        }
      ]
    },
    {
      "cell_type": "code",
      "metadata": {
        "id": "d6kpFMmDzFP3",
        "colab_type": "code",
        "colab": {
          "base_uri": "https://localhost:8080/",
          "height": 279
        },
        "outputId": "1440a468-5369-48a9-a63d-4284bf8f0be3"
      },
      "source": [
        "pipeline.fit(x, y)\n",
        "\n",
        "y_hat = pipeline.predict(x)\n",
        "\n",
        "plot_model(x, y, y_hat)"
      ],
      "execution_count": null,
      "outputs": [
        {
          "output_type": "display_data",
          "data": {
            "image/png": "[encoded data removed]",
            "text/plain": [
              "<Figure size 432x288 with 1 Axes>"
            ]
          },
          "metadata": {
            "tags": [],
            "needs_background": "light"
          }
        }
      ]
    },
    {
      "cell_type": "markdown",
      "metadata": {
        "id": "Cbky6TJqzz2w",
        "colab_type": "text"
      },
      "source": [
        "$R^2 score$ is used to determine how well a line fits’ to a data set of observations, especially when comparing models. Also, it is the fraction of the total variation in y that is captured by a model. Or, how well does a line follow the variations within a set of data.\n",
        "\n",
        "![alt text](https://4.bp.blogspot.com/-wG7IbjTfE6k/XGUvqm7TCVI/AAAAAAAAAZU/vpH1kuKTIooKTcVlnm1EVRCXLVZM9cPNgCLcBGAs/s1600/formula-MAE-MSE-RMSE-RSquared.JPG)"
      ]
    },
    {
      "cell_type": "code",
      "metadata": {
        "id": "thGu8LjXz1au",
        "colab_type": "code",
        "colab": {
          "base_uri": "https://localhost:8080/",
          "height": 34
        },
        "outputId": "69f54e0c-add3-40cd-daea-b3f88dc6d56c"
      },
      "source": [
        "# Evaluation\n",
        "\n",
        "pipeline.score(x, y) # R2 score"
      ],
      "execution_count": null,
      "outputs": [
        {
          "output_type": "execute_result",
          "data": {
            "text/plain": [
              "0.9066231829727048"
            ]
          },
          "metadata": {
            "tags": []
          },
          "execution_count": 54
        }
      ]
    }
  ]
}